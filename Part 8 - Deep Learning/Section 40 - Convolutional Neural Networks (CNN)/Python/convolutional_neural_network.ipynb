{
 "nbformat": 4,
 "nbformat_minor": 0,
 "metadata": {
  "colab": {
   "name": "convolutional_neural_network.ipynb",
   "provenance": [],
   "collapsed_sections": [],
   "toc_visible": true
  },
  "kernelspec": {
   "name": "python3",
   "display_name": "Python 3"
  }
 },
 "cells": [
  {
   "cell_type": "markdown",
   "metadata": {
    "id": "3DR-eO17geWu",
    "colab_type": "text"
   },
   "source": [
    "# Convolutional Neural Network"
   ]
  },
  {
   "cell_type": "markdown",
   "metadata": {
    "id": "EMefrVPCg-60",
    "colab_type": "text"
   },
   "source": [
    "### Importing the libraries"
   ]
  },
  {
   "cell_type": "code",
   "metadata": {
    "id": "sCV30xyVhFbE",
    "colab_type": "code",
    "colab": {}
   },
   "source": [
    "import tensorflow as tf\n",
    "from keras.preprocessing.image import ImageDataGenerator"
   ],
   "execution_count": 14,
   "outputs": []
  },
  {
   "cell_type": "code",
   "metadata": {
    "id": "FIleuCAjoFD8",
    "colab_type": "code",
    "colab": {}
   },
   "source": [
    "tf.__version__"
   ],
   "execution_count": 15,
   "outputs": [
    {
     "data": {
      "text/plain": "'2.7.0'"
     },
     "execution_count": 15,
     "metadata": {},
     "output_type": "execute_result"
    }
   ]
  },
  {
   "cell_type": "markdown",
   "metadata": {
    "id": "oxQxCBWyoGPE",
    "colab_type": "text"
   },
   "source": [
    "## Part 1 - Data Preprocessing"
   ]
  },
  {
   "cell_type": "markdown",
   "metadata": {
    "id": "MvE-heJNo3GG",
    "colab_type": "text"
   },
   "source": [
    "### Preprocessing the Training set"
   ]
  },
  {
   "cell_type": "code",
   "metadata": {
    "id": "0koUcJMJpEBD",
    "colab_type": "code",
    "colab": {}
   },
   "source": [
    "train_datagen = ImageDataGenerator(rescale = 1./255,\n",
    "                                   shear_range = 0.2,\n",
    "                                   zoom_range = 0.2,\n",
    "                                   horizontal_flip = True)\n",
    "training_set = train_datagen.flow_from_directory('dataset/training_set',\n",
    "                                                 target_size = (64, 64),\n",
    "                                                 batch_size = 32,\n",
    "                                                 class_mode = 'binary')"
   ],
   "execution_count": 16,
   "outputs": [
    {
     "name": "stdout",
     "output_type": "stream",
     "text": [
      "Found 8000 images belonging to 2 classes.\n"
     ]
    }
   ]
  },
  {
   "cell_type": "markdown",
   "metadata": {
    "id": "mrCMmGw9pHys",
    "colab_type": "text"
   },
   "source": [
    "### Preprocessing the Test set"
   ]
  },
  {
   "cell_type": "code",
   "metadata": {
    "id": "SH4WzfOhpKc3",
    "colab_type": "code",
    "colab": {}
   },
   "source": [
    "test_datagen = ImageDataGenerator(rescale = 1./255)\n",
    "test_set = test_datagen.flow_from_directory('dataset/test_set',\n",
    "                                            target_size = (64, 64),\n",
    "                                            batch_size = 32,\n",
    "                                            class_mode = 'binary')"
   ],
   "execution_count": 17,
   "outputs": [
    {
     "name": "stdout",
     "output_type": "stream",
     "text": [
      "Found 2000 images belonging to 2 classes.\n"
     ]
    }
   ]
  },
  {
   "cell_type": "markdown",
   "metadata": {
    "id": "af8O4l90gk7B",
    "colab_type": "text"
   },
   "source": [
    "## Part 2 - Building the CNN"
   ]
  },
  {
   "cell_type": "markdown",
   "metadata": {
    "id": "ces1gXY2lmoX",
    "colab_type": "text"
   },
   "source": [
    "### Initialising the CNN"
   ]
  },
  {
   "cell_type": "code",
   "metadata": {
    "id": "SAUt4UMPlhLS",
    "colab_type": "code",
    "colab": {}
   },
   "source": [
    "cnn = tf.keras.models.Sequential()"
   ],
   "execution_count": 18,
   "outputs": []
  },
  {
   "cell_type": "markdown",
   "metadata": {
    "id": "u5YJj_XMl5LF",
    "colab_type": "text"
   },
   "source": [
    "### Step 1 - Convolution"
   ]
  },
  {
   "cell_type": "code",
   "metadata": {
    "id": "XPzPrMckl-hV",
    "colab_type": "code",
    "colab": {}
   },
   "source": [
    "cnn.add(tf.keras.layers.Conv2D(filters=32, kernel_size=3, activation='relu', input_shape=[64, 64, 3]))"
   ],
   "execution_count": 19,
   "outputs": []
  },
  {
   "cell_type": "markdown",
   "metadata": {
    "id": "tf87FpvxmNOJ",
    "colab_type": "text"
   },
   "source": [
    "### Step 2 - Pooling"
   ]
  },
  {
   "cell_type": "code",
   "metadata": {
    "id": "ncpqPl69mOac",
    "colab_type": "code",
    "colab": {}
   },
   "source": [
    "cnn.add(tf.keras.layers.MaxPool2D(pool_size=2, strides=2))"
   ],
   "execution_count": 20,
   "outputs": []
  },
  {
   "cell_type": "markdown",
   "metadata": {
    "id": "xaTOgD8rm4mU",
    "colab_type": "text"
   },
   "source": [
    "### Adding a second convolutional layer"
   ]
  },
  {
   "cell_type": "code",
   "metadata": {
    "id": "i_-FZjn_m8gk",
    "colab_type": "code",
    "colab": {}
   },
   "source": [
    "cnn.add(tf.keras.layers.Conv2D(filters=32, kernel_size=3, activation='relu'))\n",
    "cnn.add(tf.keras.layers.MaxPool2D(pool_size=2, strides=2))"
   ],
   "execution_count": 21,
   "outputs": []
  },
  {
   "cell_type": "markdown",
   "metadata": {
    "id": "tmiEuvTunKfk",
    "colab_type": "text"
   },
   "source": [
    "### Step 3 - Flattening"
   ]
  },
  {
   "cell_type": "code",
   "metadata": {
    "id": "6AZeOGCvnNZn",
    "colab_type": "code",
    "colab": {}
   },
   "source": [
    "cnn.add(tf.keras.layers.Flatten())"
   ],
   "execution_count": 22,
   "outputs": []
  },
  {
   "cell_type": "markdown",
   "metadata": {
    "id": "dAoSECOm203v",
    "colab_type": "text"
   },
   "source": [
    "### Step 4 - Full Connection"
   ]
  },
  {
   "cell_type": "code",
   "metadata": {
    "id": "8GtmUlLd26Nq",
    "colab_type": "code",
    "colab": {}
   },
   "source": [
    "cnn.add(tf.keras.layers.Dense(units=128, activation='relu'))"
   ],
   "execution_count": 23,
   "outputs": []
  },
  {
   "cell_type": "markdown",
   "metadata": {
    "id": "yTldFvbX28Na",
    "colab_type": "text"
   },
   "source": [
    "### Step 5 - Output Layer"
   ]
  },
  {
   "cell_type": "code",
   "metadata": {
    "id": "1p_Zj1Mc3Ko_",
    "colab_type": "code",
    "colab": {}
   },
   "source": [
    "cnn.add(tf.keras.layers.Dense(units=1, activation='sigmoid'))"
   ],
   "execution_count": 24,
   "outputs": []
  },
  {
   "cell_type": "markdown",
   "metadata": {
    "id": "D6XkI90snSDl",
    "colab_type": "text"
   },
   "source": [
    "## Part 3 - Training the CNN"
   ]
  },
  {
   "cell_type": "markdown",
   "metadata": {
    "id": "vfrFQACEnc6i",
    "colab_type": "text"
   },
   "source": [
    "### Compiling the CNN"
   ]
  },
  {
   "cell_type": "code",
   "metadata": {
    "id": "NALksrNQpUlJ",
    "colab_type": "code",
    "colab": {}
   },
   "source": [
    "cnn.compile(optimizer = 'adam', loss = 'binary_crossentropy', metrics = ['accuracy'])"
   ],
   "execution_count": 25,
   "outputs": []
  },
  {
   "cell_type": "markdown",
   "metadata": {
    "id": "ehS-v3MIpX2h",
    "colab_type": "text"
   },
   "source": [
    "### Training the CNN on the Training set and evaluating it on the Test set"
   ]
  },
  {
   "cell_type": "code",
   "metadata": {
    "id": "XUj1W4PJptta",
    "colab_type": "code",
    "colab": {}
   },
   "source": [
    "cnn.fit(x = training_set, validation_data = test_set, epochs = 25)"
   ],
   "execution_count": 26,
   "outputs": [
    {
     "name": "stdout",
     "output_type": "stream",
     "text": [
      "Epoch 1/25\n",
      "250/250 [==============================] - 62s 247ms/step - loss: 0.6857 - accuracy: 0.5489 - val_loss: 0.6521 - val_accuracy: 0.6050\n",
      "Epoch 2/25\n",
      "250/250 [==============================] - 50s 198ms/step - loss: 0.6373 - accuracy: 0.6399 - val_loss: 0.5956 - val_accuracy: 0.6885\n",
      "Epoch 3/25\n",
      "250/250 [==============================] - 55s 220ms/step - loss: 0.5746 - accuracy: 0.6986 - val_loss: 0.5355 - val_accuracy: 0.7365\n",
      "Epoch 4/25\n",
      "250/250 [==============================] - 61s 243ms/step - loss: 0.5388 - accuracy: 0.7230 - val_loss: 0.5178 - val_accuracy: 0.7365\n",
      "Epoch 5/25\n",
      "250/250 [==============================] - 52s 208ms/step - loss: 0.5174 - accuracy: 0.7352 - val_loss: 0.5106 - val_accuracy: 0.7535\n",
      "Epoch 6/25\n",
      "250/250 [==============================] - 52s 209ms/step - loss: 0.4935 - accuracy: 0.7591 - val_loss: 0.4886 - val_accuracy: 0.7665\n",
      "Epoch 7/25\n",
      "250/250 [==============================] - 57s 226ms/step - loss: 0.4708 - accuracy: 0.7751 - val_loss: 0.5221 - val_accuracy: 0.7565\n",
      "Epoch 8/25\n",
      "250/250 [==============================] - 47s 187ms/step - loss: 0.4551 - accuracy: 0.7822 - val_loss: 0.5095 - val_accuracy: 0.7605\n",
      "Epoch 9/25\n",
      "250/250 [==============================] - 47s 190ms/step - loss: 0.4391 - accuracy: 0.7928 - val_loss: 0.4730 - val_accuracy: 0.7870\n",
      "Epoch 10/25\n",
      "250/250 [==============================] - 46s 183ms/step - loss: 0.4258 - accuracy: 0.8018 - val_loss: 0.5261 - val_accuracy: 0.7570\n",
      "Epoch 11/25\n",
      "250/250 [==============================] - 52s 206ms/step - loss: 0.4096 - accuracy: 0.8098 - val_loss: 0.5045 - val_accuracy: 0.7765\n",
      "Epoch 12/25\n",
      "250/250 [==============================] - 49s 194ms/step - loss: 0.3971 - accuracy: 0.8195 - val_loss: 0.5823 - val_accuracy: 0.7360\n",
      "Epoch 13/25\n",
      "250/250 [==============================] - 49s 195ms/step - loss: 0.3875 - accuracy: 0.8253 - val_loss: 0.4667 - val_accuracy: 0.8095\n",
      "Epoch 14/25\n",
      "250/250 [==============================] - 54s 216ms/step - loss: 0.3691 - accuracy: 0.8374 - val_loss: 0.4613 - val_accuracy: 0.8015\n",
      "Epoch 15/25\n",
      "250/250 [==============================] - 53s 210ms/step - loss: 0.3568 - accuracy: 0.8407 - val_loss: 0.4615 - val_accuracy: 0.7995\n",
      "Epoch 16/25\n",
      "250/250 [==============================] - 47s 188ms/step - loss: 0.3425 - accuracy: 0.8511 - val_loss: 0.5259 - val_accuracy: 0.7855\n",
      "Epoch 17/25\n",
      "250/250 [==============================] - 48s 192ms/step - loss: 0.3308 - accuracy: 0.8586 - val_loss: 0.5268 - val_accuracy: 0.7830\n",
      "Epoch 18/25\n",
      "250/250 [==============================] - 48s 191ms/step - loss: 0.3146 - accuracy: 0.8636 - val_loss: 0.4845 - val_accuracy: 0.7930\n",
      "Epoch 19/25\n",
      "250/250 [==============================] - 47s 188ms/step - loss: 0.3028 - accuracy: 0.8701 - val_loss: 0.5270 - val_accuracy: 0.7915\n",
      "Epoch 20/25\n",
      "250/250 [==============================] - 47s 187ms/step - loss: 0.2814 - accuracy: 0.8785 - val_loss: 0.5095 - val_accuracy: 0.8005\n",
      "Epoch 21/25\n",
      "250/250 [==============================] - 46s 185ms/step - loss: 0.2708 - accuracy: 0.8867 - val_loss: 0.5165 - val_accuracy: 0.8000\n",
      "Epoch 22/25\n",
      "250/250 [==============================] - 47s 188ms/step - loss: 0.2581 - accuracy: 0.8921 - val_loss: 0.4973 - val_accuracy: 0.8185\n",
      "Epoch 23/25\n",
      "250/250 [==============================] - 47s 188ms/step - loss: 0.2510 - accuracy: 0.8946 - val_loss: 0.5308 - val_accuracy: 0.8005\n",
      "Epoch 24/25\n",
      "250/250 [==============================] - 46s 183ms/step - loss: 0.2376 - accuracy: 0.8971 - val_loss: 0.5424 - val_accuracy: 0.8000\n",
      "Epoch 25/25\n",
      "250/250 [==============================] - 46s 184ms/step - loss: 0.2253 - accuracy: 0.9057 - val_loss: 0.5502 - val_accuracy: 0.7980\n"
     ]
    },
    {
     "data": {
      "text/plain": "<keras.callbacks.History at 0x7f8104e6b5b0>"
     },
     "execution_count": 26,
     "metadata": {},
     "output_type": "execute_result"
    }
   ]
  },
  {
   "cell_type": "markdown",
   "metadata": {
    "id": "U3PZasO0006Z",
    "colab_type": "text"
   },
   "source": [
    "## Part 4 - Making a single prediction"
   ]
  },
  {
   "cell_type": "code",
   "metadata": {
    "id": "gsSiWEJY1BPB",
    "colab_type": "code",
    "colab": {}
   },
   "source": [
    "import numpy as np\n",
    "from keras.preprocessing import image\n",
    "test_image = image.load_img('dataset/single_prediction/cat_or_dog_1.jpg', target_size = (64, 64))\n",
    "test_image = image.img_to_array(test_image)\n",
    "test_image = np.expand_dims(test_image, axis = 0)\n",
    "result = cnn.predict(test_image)\n",
    "training_set.class_indices\n",
    "if result[0][0] == 1:\n",
    "  prediction = 'dog'\n",
    "else:\n",
    "  prediction = 'cat'"
   ],
   "execution_count": 27,
   "outputs": []
  },
  {
   "cell_type": "code",
   "metadata": {
    "id": "ED9KB3I54c1i",
    "colab_type": "code",
    "colab": {}
   },
   "source": [
    "print(prediction)"
   ],
   "execution_count": 28,
   "outputs": [
    {
     "name": "stdout",
     "output_type": "stream",
     "text": [
      "dog\n"
     ]
    }
   ]
  }
 ]
}